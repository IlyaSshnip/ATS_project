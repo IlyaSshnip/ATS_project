{
 "cells": [
  {
   "cell_type": "markdown",
   "id": "c146c123",
   "metadata": {},
   "source": [
    "# One-Stage Kyle Model ($N=1$)"
   ]
  },
  {
   "cell_type": "code",
   "execution_count": 11,
   "id": "0a522b40",
   "metadata": {},
   "outputs": [],
   "source": [
    "import pandas as pd\n",
    "import numpy as np\n",
    "import plotly.graph_objects as go\n",
    "\n",
    "random_seed = 42\n"
   ]
  },
  {
   "cell_type": "code",
   "execution_count": null,
   "id": "7f602afb",
   "metadata": {},
   "outputs": [],
   "source": [
    "asset_mean = 100.0\n",
    "asset_stdev = 10.0\n",
    "uninf_stdev = 1.0\n",
    "asset_stdevs = np.arange(1, 50.1, 1)\n",
    "uninformed_stdevs = np.arange(0.1, 3.01, 0.1)"
   ]
  },
  {
   "attachments": {
    "image.png": {
     "image/png": "[encoded data removed]"
    }
   },
   "cell_type": "markdown",
   "id": "f1b0bad2",
   "metadata": {},
   "source": [
    "Experiment setup: generate true value of an asset with the same mean but different standard deviations, from small to large. These are $p_0$ and $\\sqrt\\Sigma_0$ from the theorem. Uninformed traders have order flow with mean $0$ and stdev $\\sigma_u$.\n",
    "\n",
    "![image.png](attachment:image.png)"
   ]
  },
  {
   "cell_type": "code",
   "execution_count": 13,
   "id": "27a19de5",
   "metadata": {},
   "outputs": [],
   "source": [
    "def get_kyle1_params(true_asset_stdev: float, uninf_stdev: float) -> tuple[float, float]:\n",
    "    lmbd = true_asset_stdev / (2 * uninf_stdev)\n",
    "    beta = 1 / (2 * lmbd)\n",
    "\n",
    "    return lmbd, beta\n",
    "\n",
    "def get_kyle1_lambda(asset_stdev, uninf_stdev):\n",
    "    return asset_stdev / (2 * uninf_stdev)\n",
    "\n",
    "def get_quotes(\n",
    "    guess_price: float,\n",
    "    market_maker_spread: float,\n",
    "    true_asset_value: float,\n",
    "    true_asset_stdev: float,\n",
    "    uninf_stdev: float,\n",
    "    iterations=100,\n",
    "):\n",
    "    order_flow = []\n",
    "\n",
    "    market_maker_quotes = [(guess_price + market_maker_spread, guess_price - market_maker_spread)]\n",
    "\n",
    "    lmbd, beta = get_kyle1_params(true_asset_stdev, uninf_stdev)\n",
    "\n",
    "    for i in range(iterations):\n",
    "        midprice = (market_maker_quotes[-1][0] + market_maker_quotes[-1][1]) / 2\n",
    "\n",
    "        uninformed_trader_of = np.random.normal(0, uninf_stdev)\n",
    "\n",
    "        informed_trader_of = beta * (true_asset_value - midprice)\n",
    "\n",
    "        total_order_flow = uninformed_trader_of + informed_trader_of\n",
    "\n",
    "        # update market maker quotes\n",
    "        last_bid = market_maker_quotes[-1][0]\n",
    "        last_ask = market_maker_quotes[-1][1]\n",
    "\n",
    "        price_adjustment = lmbd * total_order_flow\n",
    "\n",
    "        new_bid, new_ask = last_bid + price_adjustment, last_ask + price_adjustment\n",
    "\n",
    "        order_flow.append(total_order_flow)\n",
    "        market_maker_quotes.append((new_bid, new_ask))\n",
    "\n",
    "    return market_maker_quotes, lmbd, beta"
   ]
  },
  {
   "cell_type": "code",
   "execution_count": 25,
   "id": "dcc14b93",
   "metadata": {},
   "outputs": [
    {
     "data": {
      "application/vnd.plotly.v1+json": {
       "config": {
        "plotlyServerURL": "https://plot.ly"
       },
       "data": [
        {
         "mode": "lines+markers",
         "name": "Bids",
         "type": "scatter",
         "x": [
          0,
          1,
          2,
          3,
          4,
          5,
          6,
          7,
          8,
          9,
          10,
          11,
          12,
          13,
          14,
          15,
          16,
          17,
          18,
          19,
          20,
          21,
          22,
          23,
          24,
          25,
          26,
          27,
          28,
          29,
          30,
          31,
          32,
          33,
          34,
          35,
          36,
          37,
          38,
          39,
          40,
          41,
          42,
          43,
          44,
          45,
          46,
          47,
          48,
          49,
          50,
          51,
          52,
          53,
          54,
          55,
          56,
          57,
          58,
          59,
          60,
          61,
          62,
          63,
          64,
          65,
          66,
          67,
          68,
          69,
          70,
          71,
          72,
          73,
          74,
          75,
          76,
          77,
          78,
          79,
          80,
          81,
          82,
          83,
          84,
          85,
          86,
          87,
          88,
          89,
          90,
          91,
          92,
          93,
          94,
          95,
          96,
          97,
          98,
          99
         ],
         "y": [
          152,
          128.79224925920025,
          121.11813808515976,
          121.65778908967617,
          113.14169843627757,
          108.88373519844905,
          115.82150244181764,
          115.23149563172953,
          108.75194665124617,
          110.57234430860908,
          106.45265445529839,
          104.38124922485407,
          106.88400673531338,
          97.35917290942386,
          93.53856805720294,
          97.44141714745277,
          97.14012373711043,
          103.62486929658775,
          100.75588503574399,
          96.7999947762517,
          109.21181199778978,
          106.96059526151838,
          107.30150941925497,
          100.01058454361636,
          100.76694941423843,
          104.42165842072471,
          99.939432088307,
          105.33177690093802,
          103.14626576593115,
          103.59823489905536,
          102.27415515343685,
          113.88203926431927,
          110.35710427352613,
          103.37356825703974,
          109.28307945409198,
          102.02089224224704,
          105.53833486120347,
          96.45438757625902,
          95.06983430869353,
          102.00279409874855,
          108.1773007144075,
          108.42906252820977,
          107.11986061721984,
          105.53798259571964,
          98.85995211107885,
          99.31432577862205,
          100.83753979956825,
          109.18795179593486,
          109.79563811086591,
          99.56618904367545,
          104.88708513386787
         ]
        },
        {
         "mode": "lines+markers",
         "name": "Asks",
         "type": "scatter",
         "x": [
          0,
          1,
          2,
          3,
          4,
          5,
          6,
          7,
          8,
          9,
          10,
          11,
          12,
          13,
          14,
          15,
          16,
          17,
          18,
          19,
          20,
          21,
          22,
          23,
          24,
          25,
          26,
          27,
          28,
          29,
          30,
          31,
          32,
          33,
          34,
          35,
          36,
          37,
          38,
          39,
          40,
          41,
          42,
          43,
          44,
          45,
          46,
          47,
          48,
          49,
          50,
          51,
          52,
          53,
          54,
          55,
          56,
          57,
          58,
          59,
          60,
          61,
          62,
          63,
          64,
          65,
          66,
          67,
          68,
          69,
          70,
          71,
          72,
          73,
          74,
          75,
          76,
          77,
          78,
          79,
          80,
          81,
          82,
          83,
          84,
          85,
          86,
          87,
          88,
          89,
          90,
          91,
          92,
          93,
          94,
          95,
          96,
          97,
          98,
          99
         ],
         "y": [
          148,
          124.79224925920025,
          117.11813808515976,
          117.65778908967617,
          109.14169843627757,
          104.88373519844905,
          111.82150244181764,
          111.23149563172953,
          104.75194665124617,
          106.57234430860908,
          102.45265445529839,
          100.38124922485407,
          102.88400673531338,
          93.35917290942386,
          89.53856805720294,
          93.44141714745277,
          93.14012373711043,
          99.62486929658775,
          96.75588503574399,
          92.7999947762517,
          105.21181199778978,
          102.96059526151838,
          103.30150941925497,
          96.01058454361636,
          96.76694941423843,
          100.42165842072471,
          95.939432088307,
          101.33177690093802,
          99.14626576593115,
          99.59823489905536,
          98.27415515343685,
          109.88203926431927,
          106.35710427352613,
          99.37356825703974,
          105.28307945409198,
          98.02089224224704,
          101.53833486120347,
          92.45438757625902,
          91.06983430869353,
          98.00279409874855,
          104.1773007144075,
          104.42906252820977,
          103.11986061721984,
          101.53798259571964,
          94.85995211107885,
          95.31432577862205,
          96.83753979956825,
          105.18795179593486,
          105.79563811086591,
          95.56618904367545,
          100.88708513386787
         ]
        }
       ],
       "layout": {
        "annotations": [
         {
          "showarrow": false,
          "text": "True asset value: 104.97",
          "x": 1,
          "xanchor": "right",
          "xref": "x domain",
          "y": 104.96714153011233,
          "yanchor": "top",
          "yref": "y"
         }
        ],
        "shapes": [
         {
          "line": {
           "dash": "dot"
          },
          "type": "line",
          "x0": 0,
          "x1": 1,
          "xref": "x domain",
          "y0": 104.96714153011233,
          "y1": 104.96714153011233,
          "yanchor": "top",
          "yref": "y"
         }
        ],
        "template": {
         "data": {
          "bar": [
           {
            "error_x": {
             "color": "#2a3f5f"
            },
            "error_y": {
             "color": "#2a3f5f"
            },
            "marker": {
             "line": {
              "color": "#E5ECF6",
              "width": 0.5
             },
             "pattern": {
              "fillmode": "overlay",
              "size": 10,
              "solidity": 0.2
             }
            },
            "type": "bar"
           }
          ],
          "barpolar": [
           {
            "marker": {
             "line": {
              "color": "#E5ECF6",
              "width": 0.5
             },
             "pattern": {
              "fillmode": "overlay",
              "size": 10,
              "solidity": 0.2
             }
            },
            "type": "barpolar"
           }
          ],
          "carpet": [
           {
            "aaxis": {
             "endlinecolor": "#2a3f5f",
             "gridcolor": "white",
             "linecolor": "white",
             "minorgridcolor": "white",
             "startlinecolor": "#2a3f5f"
            },
            "baxis": {
             "endlinecolor": "#2a3f5f",
             "gridcolor": "white",
             "linecolor": "white",
             "minorgridcolor": "white",
             "startlinecolor": "#2a3f5f"
            },
            "type": "carpet"
           }
          ],
          "choropleth": [
           {
            "colorbar": {
             "outlinewidth": 0,
             "ticks": ""
            },
            "type": "choropleth"
           }
          ],
          "contour": [
           {
            "colorbar": {
             "outlinewidth": 0,
             "ticks": ""
            },
            "colorscale": [
             [
              0,
              "#0d0887"
             ],
             [
              0.1111111111111111,
              "#46039f"
             ],
             [
              0.2222222222222222,
              "#7201a8"
             ],
             [
              0.3333333333333333,
              "#9c179e"
             ],
             [
              0.4444444444444444,
              "#bd3786"
             ],
             [
              0.5555555555555556,
              "#d8576b"
             ],
             [
              0.6666666666666666,
              "#ed7953"
             ],
             [
              0.7777777777777778,
              "#fb9f3a"
             ],
             [
              0.8888888888888888,
              "#fdca26"
             ],
             [
              1,
              "#f0f921"
             ]
            ],
            "type": "contour"
           }
          ],
          "contourcarpet": [
           {
            "colorbar": {
             "outlinewidth": 0,
             "ticks": ""
            },
            "type": "contourcarpet"
           }
          ],
          "heatmap": [
           {
            "colorbar": {
             "outlinewidth": 0,
             "ticks": ""
            },
            "colorscale": [
             [
              0,
              "#0d0887"
             ],
             [
              0.1111111111111111,
              "#46039f"
             ],
             [
              0.2222222222222222,
              "#7201a8"
             ],
             [
              0.3333333333333333,
              "#9c179e"
             ],
             [
              0.4444444444444444,
              "#bd3786"
             ],
             [
              0.5555555555555556,
              "#d8576b"
             ],
             [
              0.6666666666666666,
              "#ed7953"
             ],
             [
              0.7777777777777778,
              "#fb9f3a"
             ],
             [
              0.8888888888888888,
              "#fdca26"
             ],
             [
              1,
              "#f0f921"
             ]
            ],
            "type": "heatmap"
           }
          ],
          "histogram": [
           {
            "marker": {
             "pattern": {
              "fillmode": "overlay",
              "size": 10,
              "solidity": 0.2
             }
            },
            "type": "histogram"
           }
          ],
          "histogram2d": [
           {
            "colorbar": {
             "outlinewidth": 0,
             "ticks": ""
            },
            "colorscale": [
             [
              0,
              "#0d0887"
             ],
             [
              0.1111111111111111,
              "#46039f"
             ],
             [
              0.2222222222222222,
              "#7201a8"
             ],
             [
              0.3333333333333333,
              "#9c179e"
             ],
             [
              0.4444444444444444,
              "#bd3786"
             ],
             [
              0.5555555555555556,
              "#d8576b"
             ],
             [
              0.6666666666666666,
              "#ed7953"
             ],
             [
              0.7777777777777778,
              "#fb9f3a"
             ],
             [
              0.8888888888888888,
              "#fdca26"
             ],
             [
              1,
              "#f0f921"
             ]
            ],
            "type": "histogram2d"
           }
          ],
          "histogram2dcontour": [
           {
            "colorbar": {
             "outlinewidth": 0,
             "ticks": ""
            },
            "colorscale": [
             [
              0,
              "#0d0887"
             ],
             [
              0.1111111111111111,
              "#46039f"
             ],
             [
              0.2222222222222222,
              "#7201a8"
             ],
             [
              0.3333333333333333,
              "#9c179e"
             ],
             [
              0.4444444444444444,
              "#bd3786"
             ],
             [
              0.5555555555555556,
              "#d8576b"
             ],
             [
              0.6666666666666666,
              "#ed7953"
             ],
             [
              0.7777777777777778,
              "#fb9f3a"
             ],
             [
              0.8888888888888888,
              "#fdca26"
             ],
             [
              1,
              "#f0f921"
             ]
            ],
            "type": "histogram2dcontour"
           }
          ],
          "mesh3d": [
           {
            "colorbar": {
             "outlinewidth": 0,
             "ticks": ""
            },
            "type": "mesh3d"
           }
          ],
          "parcoords": [
           {
            "line": {
             "colorbar": {
              "outlinewidth": 0,
              "ticks": ""
             }
            },
            "type": "parcoords"
           }
          ],
          "pie": [
           {
            "automargin": true,
            "type": "pie"
           }
          ],
          "scatter": [
           {
            "fillpattern": {
             "fillmode": "overlay",
             "size": 10,
             "solidity": 0.2
            },
            "type": "scatter"
           }
          ],
          "scatter3d": [
           {
            "line": {
             "colorbar": {
              "outlinewidth": 0,
              "ticks": ""
             }
            },
            "marker": {
             "colorbar": {
              "outlinewidth": 0,
              "ticks": ""
             }
            },
            "type": "scatter3d"
           }
          ],
          "scattercarpet": [
           {
            "marker": {
             "colorbar": {
              "outlinewidth": 0,
              "ticks": ""
             }
            },
            "type": "scattercarpet"
           }
          ],
          "scattergeo": [
           {
            "marker": {
             "colorbar": {
              "outlinewidth": 0,
              "ticks": ""
             }
            },
            "type": "scattergeo"
           }
          ],
          "scattergl": [
           {
            "marker": {
             "colorbar": {
              "outlinewidth": 0,
              "ticks": ""
             }
            },
            "type": "scattergl"
           }
          ],
          "scattermap": [
           {
            "marker": {
             "colorbar": {
              "outlinewidth": 0,
              "ticks": ""
             }
            },
            "type": "scattermap"
           }
          ],
          "scattermapbox": [
           {
            "marker": {
             "colorbar": {
              "outlinewidth": 0,
              "ticks": ""
             }
            },
            "type": "scattermapbox"
           }
          ],
          "scatterpolar": [
           {
            "marker": {
             "colorbar": {
              "outlinewidth": 0,
              "ticks": ""
             }
            },
            "type": "scatterpolar"
           }
          ],
          "scatterpolargl": [
           {
            "marker": {
             "colorbar": {
              "outlinewidth": 0,
              "ticks": ""
             }
            },
            "type": "scatterpolargl"
           }
          ],
          "scatterternary": [
           {
            "marker": {
             "colorbar": {
              "outlinewidth": 0,
              "ticks": ""
             }
            },
            "type": "scatterternary"
           }
          ],
          "surface": [
           {
            "colorbar": {
             "outlinewidth": 0,
             "ticks": ""
            },
            "colorscale": [
             [
              0,
              "#0d0887"
             ],
             [
              0.1111111111111111,
              "#46039f"
             ],
             [
              0.2222222222222222,
              "#7201a8"
             ],
             [
              0.3333333333333333,
              "#9c179e"
             ],
             [
              0.4444444444444444,
              "#bd3786"
             ],
             [
              0.5555555555555556,
              "#d8576b"
             ],
             [
              0.6666666666666666,
              "#ed7953"
             ],
             [
              0.7777777777777778,
              "#fb9f3a"
             ],
             [
              0.8888888888888888,
              "#fdca26"
             ],
             [
              1,
              "#f0f921"
             ]
            ],
            "type": "surface"
           }
          ],
          "table": [
           {
            "cells": {
             "fill": {
              "color": "#EBF0F8"
             },
             "line": {
              "color": "white"
             }
            },
            "header": {
             "fill": {
              "color": "#C8D4E3"
             },
             "line": {
              "color": "white"
             }
            },
            "type": "table"
           }
          ]
         },
         "layout": {
          "annotationdefaults": {
           "arrowcolor": "#2a3f5f",
           "arrowhead": 0,
           "arrowwidth": 1
          },
          "autotypenumbers": "strict",
          "coloraxis": {
           "colorbar": {
            "outlinewidth": 0,
            "ticks": ""
           }
          },
          "colorscale": {
           "diverging": [
            [
             0,
             "#8e0152"
            ],
            [
             0.1,
             "#c51b7d"
            ],
            [
             0.2,
             "#de77ae"
            ],
            [
             0.3,
             "#f1b6da"
            ],
            [
             0.4,
             "#fde0ef"
            ],
            [
             0.5,
             "#f7f7f7"
            ],
            [
             0.6,
             "#e6f5d0"
            ],
            [
             0.7,
             "#b8e186"
            ],
            [
             0.8,
             "#7fbc41"
            ],
            [
             0.9,
             "#4d9221"
            ],
            [
             1,
             "#276419"
            ]
           ],
           "sequential": [
            [
             0,
             "#0d0887"
            ],
            [
             0.1111111111111111,
             "#46039f"
            ],
            [
             0.2222222222222222,
             "#7201a8"
            ],
            [
             0.3333333333333333,
             "#9c179e"
            ],
            [
             0.4444444444444444,
             "#bd3786"
            ],
            [
             0.5555555555555556,
             "#d8576b"
            ],
            [
             0.6666666666666666,
             "#ed7953"
            ],
            [
             0.7777777777777778,
             "#fb9f3a"
            ],
            [
             0.8888888888888888,
             "#fdca26"
            ],
            [
             1,
             "#f0f921"
            ]
           ],
           "sequentialminus": [
            [
             0,
             "#0d0887"
            ],
            [
             0.1111111111111111,
             "#46039f"
            ],
            [
             0.2222222222222222,
             "#7201a8"
            ],
            [
             0.3333333333333333,
             "#9c179e"
            ],
            [
             0.4444444444444444,
             "#bd3786"
            ],
            [
             0.5555555555555556,
             "#d8576b"
            ],
            [
             0.6666666666666666,
             "#ed7953"
            ],
            [
             0.7777777777777778,
             "#fb9f3a"
            ],
            [
             0.8888888888888888,
             "#fdca26"
            ],
            [
             1,
             "#f0f921"
            ]
           ]
          },
          "colorway": [
           "#636efa",
           "#EF553B",
           "#00cc96",
           "#ab63fa",
           "#FFA15A",
           "#19d3f3",
           "#FF6692",
           "#B6E880",
           "#FF97FF",
           "#FECB52"
          ],
          "font": {
           "color": "#2a3f5f"
          },
          "geo": {
           "bgcolor": "white",
           "lakecolor": "white",
           "landcolor": "#E5ECF6",
           "showlakes": true,
           "showland": true,
           "subunitcolor": "white"
          },
          "hoverlabel": {
           "align": "left"
          },
          "hovermode": "closest",
          "mapbox": {
           "style": "light"
          },
          "paper_bgcolor": "white",
          "plot_bgcolor": "#E5ECF6",
          "polar": {
           "angularaxis": {
            "gridcolor": "white",
            "linecolor": "white",
            "ticks": ""
           },
           "bgcolor": "#E5ECF6",
           "radialaxis": {
            "gridcolor": "white",
            "linecolor": "white",
            "ticks": ""
           }
          },
          "scene": {
           "xaxis": {
            "backgroundcolor": "#E5ECF6",
            "gridcolor": "white",
            "gridwidth": 2,
            "linecolor": "white",
            "showbackground": true,
            "ticks": "",
            "zerolinecolor": "white"
           },
           "yaxis": {
            "backgroundcolor": "#E5ECF6",
            "gridcolor": "white",
            "gridwidth": 2,
            "linecolor": "white",
            "showbackground": true,
            "ticks": "",
            "zerolinecolor": "white"
           },
           "zaxis": {
            "backgroundcolor": "#E5ECF6",
            "gridcolor": "white",
            "gridwidth": 2,
            "linecolor": "white",
            "showbackground": true,
            "ticks": "",
            "zerolinecolor": "white"
           }
          },
          "shapedefaults": {
           "line": {
            "color": "#2a3f5f"
           }
          },
          "ternary": {
           "aaxis": {
            "gridcolor": "white",
            "linecolor": "white",
            "ticks": ""
           },
           "baxis": {
            "gridcolor": "white",
            "linecolor": "white",
            "ticks": ""
           },
           "bgcolor": "#E5ECF6",
           "caxis": {
            "gridcolor": "white",
            "linecolor": "white",
            "ticks": ""
           }
          },
          "title": {
           "x": 0.05
          },
          "xaxis": {
           "automargin": true,
           "gridcolor": "white",
           "linecolor": "white",
           "ticks": "",
           "title": {
            "standoff": 15
           },
           "zerolinecolor": "white",
           "zerolinewidth": 2
          },
          "yaxis": {
           "automargin": true,
           "gridcolor": "white",
           "linecolor": "white",
           "ticks": "",
           "title": {
            "standoff": 15
           },
           "zerolinecolor": "white",
           "zerolinewidth": 2
          }
         }
        }
       }
      }
     },
     "metadata": {},
     "output_type": "display_data"
    }
   ],
   "source": [
    "np.random.seed(random_seed)\n",
    "\n",
    "true_asset_value = np.random.normal(asset_mean, asset_stdev)\n",
    "market_maker_quotes, lmbd, beta = get_quotes(\n",
    "    150, 2, true_asset_value, asset_stdev, uninf_stdev, 50\n",
    ")\n",
    "\n",
    "bids = [x[0] for x in market_maker_quotes]\n",
    "asks = [x[1] for x in market_maker_quotes]\n",
    "\n",
    "# plot bids and asks\n",
    "\n",
    "plotly_fig = go.Figure()\n",
    "\n",
    "plotly_fig.add_trace(go.Scatter(x=list(range(100)), y=bids, mode=\"lines+markers\", name=\"Bids\"))\n",
    "plotly_fig.add_trace(go.Scatter(x=list(range(100)), y=asks, mode=\"lines+markers\", name=\"Asks\"))\n",
    "plotly_fig.add_hline(\n",
    "    y=true_asset_value,\n",
    "    line_dash=\"dot\",\n",
    "    yanchor=\"top\",\n",
    "    annotation_text=f\"True asset value: {true_asset_value:.2f}\",\n",
    "    annotation_position=\"bottom right\",\n",
    ")\n",
    "\n",
    "plotly_fig.show()"
   ]
  },
  {
   "cell_type": "markdown",
   "id": "0d772472",
   "metadata": {},
   "source": [
    "Surface of lambdas:"
   ]
  },
  {
   "cell_type": "code",
   "execution_count": 15,
   "id": "6ec44e18",
   "metadata": {},
   "outputs": [
    {
     "data": {
      "application/vnd.plotly.v1+json": {
       "config": {
        "plotlyServerURL": "https://plot.ly"
       },
       "data": [
        {
         "colorbar": {
          "thickness": 24
         },
         "type": "surface",
         "x": {
          "bdata": "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",
          "dtype": "f8",
          "shape": "30, 50"
         },
         "y": {
          "bdata": "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",
          "dtype": "f8",
          "shape": "30, 50"
         },
         "z": {
          "bdata": "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",
          "dtype": "f8",
          "shape": "30, 50"
         }
        }
       ],
       "layout": {
        "font": {
         "size": 12
        },
        "height": 600,
        "scene": {
         "xaxis": {
          "title": {
           "text": "Asset StDev"
          }
         },
         "yaxis": {
          "title": {
           "text": "Uninformed StDev"
          }
         },
         "zaxis": {
          "title": {
           "text": "Lambda"
          }
         }
        },
        "template": {
         "data": {
          "bar": [
           {
            "error_x": {
             "color": "#2a3f5f"
            },
            "error_y": {
             "color": "#2a3f5f"
            },
            "marker": {
             "line": {
              "color": "#E5ECF6",
              "width": 0.5
             },
             "pattern": {
              "fillmode": "overlay",
              "size": 10,
              "solidity": 0.2
             }
            },
            "type": "bar"
           }
          ],
          "barpolar": [
           {
            "marker": {
             "line": {
              "color": "#E5ECF6",
              "width": 0.5
             },
             "pattern": {
              "fillmode": "overlay",
              "size": 10,
              "solidity": 0.2
             }
            },
            "type": "barpolar"
           }
          ],
          "carpet": [
           {
            "aaxis": {
             "endlinecolor": "#2a3f5f",
             "gridcolor": "white",
             "linecolor": "white",
             "minorgridcolor": "white",
             "startlinecolor": "#2a3f5f"
            },
            "baxis": {
             "endlinecolor": "#2a3f5f",
             "gridcolor": "white",
             "linecolor": "white",
             "minorgridcolor": "white",
             "startlinecolor": "#2a3f5f"
            },
            "type": "carpet"
           }
          ],
          "choropleth": [
           {
            "colorbar": {
             "outlinewidth": 0,
             "ticks": ""
            },
            "type": "choropleth"
           }
          ],
          "contour": [
           {
            "colorbar": {
             "outlinewidth": 0,
             "ticks": ""
            },
            "colorscale": [
             [
              0,
              "#0d0887"
             ],
             [
              0.1111111111111111,
              "#46039f"
             ],
             [
              0.2222222222222222,
              "#7201a8"
             ],
             [
              0.3333333333333333,
              "#9c179e"
             ],
             [
              0.4444444444444444,
              "#bd3786"
             ],
             [
              0.5555555555555556,
              "#d8576b"
             ],
             [
              0.6666666666666666,
              "#ed7953"
             ],
             [
              0.7777777777777778,
              "#fb9f3a"
             ],
             [
              0.8888888888888888,
              "#fdca26"
             ],
             [
              1,
              "#f0f921"
             ]
            ],
            "type": "contour"
           }
          ],
          "contourcarpet": [
           {
            "colorbar": {
             "outlinewidth": 0,
             "ticks": ""
            },
            "type": "contourcarpet"
           }
          ],
          "heatmap": [
           {
            "colorbar": {
             "outlinewidth": 0,
             "ticks": ""
            },
            "colorscale": [
             [
              0,
              "#0d0887"
             ],
             [
              0.1111111111111111,
              "#46039f"
             ],
             [
              0.2222222222222222,
              "#7201a8"
             ],
             [
              0.3333333333333333,
              "#9c179e"
             ],
             [
              0.4444444444444444,
              "#bd3786"
             ],
             [
              0.5555555555555556,
              "#d8576b"
             ],
             [
              0.6666666666666666,
              "#ed7953"
             ],
             [
              0.7777777777777778,
              "#fb9f3a"
             ],
             [
              0.8888888888888888,
              "#fdca26"
             ],
             [
              1,
              "#f0f921"
             ]
            ],
            "type": "heatmap"
           }
          ],
          "histogram": [
           {
            "marker": {
             "pattern": {
              "fillmode": "overlay",
              "size": 10,
              "solidity": 0.2
             }
            },
            "type": "histogram"
           }
          ],
          "histogram2d": [
           {
            "colorbar": {
             "outlinewidth": 0,
             "ticks": ""
            },
            "colorscale": [
             [
              0,
              "#0d0887"
             ],
             [
              0.1111111111111111,
              "#46039f"
             ],
             [
              0.2222222222222222,
              "#7201a8"
             ],
             [
              0.3333333333333333,
              "#9c179e"
             ],
             [
              0.4444444444444444,
              "#bd3786"
             ],
             [
              0.5555555555555556,
              "#d8576b"
             ],
             [
              0.6666666666666666,
              "#ed7953"
             ],
             [
              0.7777777777777778,
              "#fb9f3a"
             ],
             [
              0.8888888888888888,
              "#fdca26"
             ],
             [
              1,
              "#f0f921"
             ]
            ],
            "type": "histogram2d"
           }
          ],
          "histogram2dcontour": [
           {
            "colorbar": {
             "outlinewidth": 0,
             "ticks": ""
            },
            "colorscale": [
             [
              0,
              "#0d0887"
             ],
             [
              0.1111111111111111,
              "#46039f"
             ],
             [
              0.2222222222222222,
              "#7201a8"
             ],
             [
              0.3333333333333333,
              "#9c179e"
             ],
             [
              0.4444444444444444,
              "#bd3786"
             ],
             [
              0.5555555555555556,
              "#d8576b"
             ],
             [
              0.6666666666666666,
              "#ed7953"
             ],
             [
              0.7777777777777778,
              "#fb9f3a"
             ],
             [
              0.8888888888888888,
              "#fdca26"
             ],
             [
              1,
              "#f0f921"
             ]
            ],
            "type": "histogram2dcontour"
           }
          ],
          "mesh3d": [
           {
            "colorbar": {
             "outlinewidth": 0,
             "ticks": ""
            },
            "type": "mesh3d"
           }
          ],
          "parcoords": [
           {
            "line": {
             "colorbar": {
              "outlinewidth": 0,
              "ticks": ""
             }
            },
            "type": "parcoords"
           }
          ],
          "pie": [
           {
            "automargin": true,
            "type": "pie"
           }
          ],
          "scatter": [
           {
            "fillpattern": {
             "fillmode": "overlay",
             "size": 10,
             "solidity": 0.2
            },
            "type": "scatter"
           }
          ],
          "scatter3d": [
           {
            "line": {
             "colorbar": {
              "outlinewidth": 0,
              "ticks": ""
             }
            },
            "marker": {
             "colorbar": {
              "outlinewidth": 0,
              "ticks": ""
             }
            },
            "type": "scatter3d"
           }
          ],
          "scattercarpet": [
           {
            "marker": {
             "colorbar": {
              "outlinewidth": 0,
              "ticks": ""
             }
            },
            "type": "scattercarpet"
           }
          ],
          "scattergeo": [
           {
            "marker": {
             "colorbar": {
              "outlinewidth": 0,
              "ticks": ""
             }
            },
            "type": "scattergeo"
           }
          ],
          "scattergl": [
           {
            "marker": {
             "colorbar": {
              "outlinewidth": 0,
              "ticks": ""
             }
            },
            "type": "scattergl"
           }
          ],
          "scattermap": [
           {
            "marker": {
             "colorbar": {
              "outlinewidth": 0,
              "ticks": ""
             }
            },
            "type": "scattermap"
           }
          ],
          "scattermapbox": [
           {
            "marker": {
             "colorbar": {
              "outlinewidth": 0,
              "ticks": ""
             }
            },
            "type": "scattermapbox"
           }
          ],
          "scatterpolar": [
           {
            "marker": {
             "colorbar": {
              "outlinewidth": 0,
              "ticks": ""
             }
            },
            "type": "scatterpolar"
           }
          ],
          "scatterpolargl": [
           {
            "marker": {
             "colorbar": {
              "outlinewidth": 0,
              "ticks": ""
             }
            },
            "type": "scatterpolargl"
           }
          ],
          "scatterternary": [
           {
            "marker": {
             "colorbar": {
              "outlinewidth": 0,
              "ticks": ""
             }
            },
            "type": "scatterternary"
           }
          ],
          "surface": [
           {
            "colorbar": {
             "outlinewidth": 0,
             "ticks": ""
            },
            "colorscale": [
             [
              0,
              "#0d0887"
             ],
             [
              0.1111111111111111,
              "#46039f"
             ],
             [
              0.2222222222222222,
              "#7201a8"
             ],
             [
              0.3333333333333333,
              "#9c179e"
             ],
             [
              0.4444444444444444,
              "#bd3786"
             ],
             [
              0.5555555555555556,
              "#d8576b"
             ],
             [
              0.6666666666666666,
              "#ed7953"
             ],
             [
              0.7777777777777778,
              "#fb9f3a"
             ],
             [
              0.8888888888888888,
              "#fdca26"
             ],
             [
              1,
              "#f0f921"
             ]
            ],
            "type": "surface"
           }
          ],
          "table": [
           {
            "cells": {
             "fill": {
              "color": "#EBF0F8"
             },
             "line": {
              "color": "white"
             }
            },
            "header": {
             "fill": {
              "color": "#C8D4E3"
             },
             "line": {
              "color": "white"
             }
            },
            "type": "table"
           }
          ]
         },
         "layout": {
          "annotationdefaults": {
           "arrowcolor": "#2a3f5f",
           "arrowhead": 0,
           "arrowwidth": 1
          },
          "autotypenumbers": "strict",
          "coloraxis": {
           "colorbar": {
            "outlinewidth": 0,
            "ticks": ""
           }
          },
          "colorscale": {
           "diverging": [
            [
             0,
             "#8e0152"
            ],
            [
             0.1,
             "#c51b7d"
            ],
            [
             0.2,
             "#de77ae"
            ],
            [
             0.3,
             "#f1b6da"
            ],
            [
             0.4,
             "#fde0ef"
            ],
            [
             0.5,
             "#f7f7f7"
            ],
            [
             0.6,
             "#e6f5d0"
            ],
            [
             0.7,
             "#b8e186"
            ],
            [
             0.8,
             "#7fbc41"
            ],
            [
             0.9,
             "#4d9221"
            ],
            [
             1,
             "#276419"
            ]
           ],
           "sequential": [
            [
             0,
             "#0d0887"
            ],
            [
             0.1111111111111111,
             "#46039f"
            ],
            [
             0.2222222222222222,
             "#7201a8"
            ],
            [
             0.3333333333333333,
             "#9c179e"
            ],
            [
             0.4444444444444444,
             "#bd3786"
            ],
            [
             0.5555555555555556,
             "#d8576b"
            ],
            [
             0.6666666666666666,
             "#ed7953"
            ],
            [
             0.7777777777777778,
             "#fb9f3a"
            ],
            [
             0.8888888888888888,
             "#fdca26"
            ],
            [
             1,
             "#f0f921"
            ]
           ],
           "sequentialminus": [
            [
             0,
             "#0d0887"
            ],
            [
             0.1111111111111111,
             "#46039f"
            ],
            [
             0.2222222222222222,
             "#7201a8"
            ],
            [
             0.3333333333333333,
             "#9c179e"
            ],
            [
             0.4444444444444444,
             "#bd3786"
            ],
            [
             0.5555555555555556,
             "#d8576b"
            ],
            [
             0.6666666666666666,
             "#ed7953"
            ],
            [
             0.7777777777777778,
             "#fb9f3a"
            ],
            [
             0.8888888888888888,
             "#fdca26"
            ],
            [
             1,
             "#f0f921"
            ]
           ]
          },
          "colorway": [
           "#636efa",
           "#EF553B",
           "#00cc96",
           "#ab63fa",
           "#FFA15A",
           "#19d3f3",
           "#FF6692",
           "#B6E880",
           "#FF97FF",
           "#FECB52"
          ],
          "font": {
           "color": "#2a3f5f"
          },
          "geo": {
           "bgcolor": "white",
           "lakecolor": "white",
           "landcolor": "#E5ECF6",
           "showlakes": true,
           "showland": true,
           "subunitcolor": "white"
          },
          "hoverlabel": {
           "align": "left"
          },
          "hovermode": "closest",
          "mapbox": {
           "style": "light"
          },
          "paper_bgcolor": "white",
          "plot_bgcolor": "#E5ECF6",
          "polar": {
           "angularaxis": {
            "gridcolor": "white",
            "linecolor": "white",
            "ticks": ""
           },
           "bgcolor": "#E5ECF6",
           "radialaxis": {
            "gridcolor": "white",
            "linecolor": "white",
            "ticks": ""
           }
          },
          "scene": {
           "xaxis": {
            "backgroundcolor": "#E5ECF6",
            "gridcolor": "white",
            "gridwidth": 2,
            "linecolor": "white",
            "showbackground": true,
            "ticks": "",
            "zerolinecolor": "white"
           },
           "yaxis": {
            "backgroundcolor": "#E5ECF6",
            "gridcolor": "white",
            "gridwidth": 2,
            "linecolor": "white",
            "showbackground": true,
            "ticks": "",
            "zerolinecolor": "white"
           },
           "zaxis": {
            "backgroundcolor": "#E5ECF6",
            "gridcolor": "white",
            "gridwidth": 2,
            "linecolor": "white",
            "showbackground": true,
            "ticks": "",
            "zerolinecolor": "white"
           }
          },
          "shapedefaults": {
           "line": {
            "color": "#2a3f5f"
           }
          },
          "ternary": {
           "aaxis": {
            "gridcolor": "white",
            "linecolor": "white",
            "ticks": ""
           },
           "baxis": {
            "gridcolor": "white",
            "linecolor": "white",
            "ticks": ""
           },
           "bgcolor": "#E5ECF6",
           "caxis": {
            "gridcolor": "white",
            "linecolor": "white",
            "ticks": ""
           }
          },
          "title": {
           "x": 0.05
          },
          "xaxis": {
           "automargin": true,
           "gridcolor": "white",
           "linecolor": "white",
           "ticks": "",
           "title": {
            "standoff": 15
           },
           "zerolinecolor": "white",
           "zerolinewidth": 2
          },
          "yaxis": {
           "automargin": true,
           "gridcolor": "white",
           "linecolor": "white",
           "ticks": "",
           "title": {
            "standoff": 15
           },
           "zerolinecolor": "white",
           "zerolinewidth": 2
          }
         }
        },
        "title": {
         "text": "Lambda Surface"
        },
        "width": 600
       }
      }
     },
     "metadata": {},
     "output_type": "display_data"
    }
   ],
   "source": [
    "assets_x, uninfs_y = np.meshgrid(asset_stdevs, uninformed_stdevs)\n",
    "lmbd_z = get_kyle1_lambda(assets_x, uninfs_y)\n",
    "\n",
    "lmbd_fig = go.Figure(go.Surface(x=assets_x, y=uninfs_y, z=lmbd_z, colorbar_thickness=24))\n",
    "\n",
    "lmbd_fig.update_layout(\n",
    "    title=dict(text=\"Lambda Surface\")\n",
    ")\n",
    "lmbd_fig.update_layout(width=600, height=600, font_size=12,\n",
    "    scene=dict(\n",
    "        xaxis = dict(title=\"Asset StDev\"),\n",
    "        yaxis = dict(title=\"Uninformed StDev\"),\n",
    "        zaxis =dict(title=\"Lambda\")\n",
    "    ))\n",
    "\n",
    "lmbd_fig.show()"
   ]
  },
  {
   "cell_type": "code",
   "execution_count": null,
   "id": "d7d52bcc",
   "metadata": {},
   "outputs": [],
   "source": []
  }
 ],
 "metadata": {
  "kernelspec": {
   "display_name": "auto_trans_systems",
   "language": "python",
   "name": "python3"
  },
  "language_info": {
   "codemirror_mode": {
    "name": "ipython",
    "version": 3
   },
   "file_extension": ".py",
   "mimetype": "text/x-python",
   "name": "python",
   "nbconvert_exporter": "python",
   "pygments_lexer": "ipython3",
   "version": "3.10.16"
  }
 },
 "nbformat": 4,
 "nbformat_minor": 5
}
