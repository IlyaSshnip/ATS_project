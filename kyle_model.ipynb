{
 "cells": [
  {
   "cell_type": "markdown",
   "id": "c146c123",
   "metadata": {},
   "source": [
    "# One-Stage Kyle Model ($N=1$)"
   ]
  },
  {
   "cell_type": "code",
   "execution_count": 1,
   "id": "0a522b40",
   "metadata": {},
   "outputs": [],
   "source": [
    "import pandas as pd\n",
    "import numpy as np\n",
    "import plotly.graph_objects as go\n",
    "\n",
    "random_seed = 42"
   ]
  },
  {
   "cell_type": "code",
   "execution_count": 2,
   "id": "7f602afb",
   "metadata": {},
   "outputs": [],
   "source": [
    "asset_mean = 100.0\n",
    "asset_stdev = 2.5\n",
    "uninf_stdev = 5.0\n",
    "\n",
    "# for lambda surface\n",
    "asset_stdevs = np.arange(0.5, 5.01, 0.1)\n",
    "uninformed_stdevs = np.arange(2., 10.1, 0.1)"
   ]
  },
  {
   "attachments": {
    "image.png": {
     "image/png": "[encoded data removed]"
    }
   },
   "cell_type": "markdown",
   "id": "f1b0bad2",
   "metadata": {},
   "source": [
    "## Lambda Calculation\n",
    "\n",
    "Experiment setup: generate true value of an asset with the same mean but different standard deviations, from small to large. These are $p_0$ and $\\sqrt\\Sigma_0$ from the theorem. Uninformed traders have order flow with mean $0$ and stdev $\\sigma_u$.\n",
    "\n",
    "![image.png](attachment:image.png)"
   ]
  },
  {
   "cell_type": "code",
   "execution_count": 3,
   "id": "27a19de5",
   "metadata": {},
   "outputs": [],
   "source": [
    "def get_kyle1_params(true_asset_stdev: float, uninf_stdev: float) -> tuple[float, float]:\n",
    "    lmbd = true_asset_stdev / (2 * uninf_stdev)\n",
    "    beta = 1 / (2 * lmbd)\n",
    "\n",
    "    return lmbd, beta\n",
    "\n",
    "def get_kyle1_lambda(asset_stdev, uninf_stdev):\n",
    "    return asset_stdev / (2 * uninf_stdev)\n",
    "\n",
    "def get_kyleN_quotes(\n",
    "    guess_price: float,\n",
    "    market_maker_spread: float,\n",
    "    true_asset_value: float,\n",
    "    true_asset_stdev: float,\n",
    "    uninf_stdev: float,\n",
    "    iterations=100,\n",
    "):\n",
    "    order_flow = []\n",
    "\n",
    "    market_maker_quotes = [(guess_price + market_maker_spread, guess_price - market_maker_spread)]\n",
    "\n",
    "    lmbd, beta = get_kyle1_params(true_asset_stdev, uninf_stdev)\n",
    "\n",
    "    for _ in range(iterations):\n",
    "        midprice = (market_maker_quotes[-1][0] + market_maker_quotes[-1][1]) / 2\n",
    "\n",
    "        uninformed_trader_of = np.random.normal(0, uninf_stdev)\n",
    "\n",
    "        informed_trader_of = beta * (true_asset_value - midprice)\n",
    "\n",
    "        total_order_flow = uninformed_trader_of + informed_trader_of\n",
    "\n",
    "        # update market maker quotes\n",
    "        last_bid = market_maker_quotes[-1][0]\n",
    "        last_ask = market_maker_quotes[-1][1]\n",
    "\n",
    "        price_adjustment = lmbd * total_order_flow\n",
    "\n",
    "        new_bid, new_ask = last_bid + price_adjustment, last_ask + price_adjustment\n",
    "\n",
    "        order_flow.append(total_order_flow)\n",
    "        market_maker_quotes.append((new_bid, new_ask))\n",
    "\n",
    "    return market_maker_quotes, lmbd, beta"
   ]
  },
  {
   "cell_type": "code",
   "execution_count": 4,
   "id": "dcc14b93",
   "metadata": {},
   "outputs": [
    {
     "data": {
      "application/vnd.plotly.v1+json": {
       "config": {
        "plotlyServerURL": "https://plot.ly"
       },
       "data": [
        {
         "mode": "lines+markers",
         "name": "Bids",
         "type": "scatter",
         "x": [
          0,
          1,
          2,
          3,
          4,
          5,
          6,
          7,
          8,
          9,
          10,
          11,
          12,
          13,
          14,
          15,
          16,
          17,
          18,
          19,
          20,
          21,
          22,
          23,
          24,
          25,
          26,
          27,
          28,
          29,
          30,
          31,
          32,
          33,
          34,
          35,
          36,
          37,
          38,
          39,
          40,
          41,
          42,
          43,
          44,
          45,
          46,
          47,
          48,
          49
         ],
         "y": [
          112,
          107.44806231480005,
          106.15453452128993,
          106.60194727241904,
          104.6291746090694,
          103.64280879961225,
          105.41631311045441,
          105.28834265793238,
          103.67822103781154,
          104.13820326465226,
          103.1107222075746,
          102.59409160308851,
          103.22039133226583,
          100.8394880515747,
          99.8844894264101,
          100.86027799291787,
          100.78499278730494,
          102.40619825066061,
          101.68896172219283,
          100.69999392569134,
          103.80295061526165,
          103.24014762328669,
          103.32537675876729,
          101.50264583788086,
          101.69173720454799,
          102.60541453067536,
          101.48485798482385,
          102.83294420660805,
          102.28656643216955,
          102.39955872010722,
          102.0685387860309,
          104.97050981491566,
          104.08927606779945,
          102.34339206396889,
          103.82076986337748,
          102.005223060489,
          102.88458371526448,
          100.61359689404657,
          100.26745857716429,
          102.00069852468259,
          103.54432517859959,
          103.6072656320513,
          103.27996515430439,
          102.88449564892963,
          101.21498802776956,
          101.32858144465544,
          101.70938494989203,
          103.7969879489837,
          103.94890952771647,
          101.39154726091886,
          102.72177128346696
         ]
        },
        {
         "mode": "lines+markers",
         "name": "Asks",
         "type": "scatter",
         "x": [
          0,
          1,
          2,
          3,
          4,
          5,
          6,
          7,
          8,
          9,
          10,
          11,
          12,
          13,
          14,
          15,
          16,
          17,
          18,
          19,
          20,
          21,
          22,
          23,
          24,
          25,
          26,
          27,
          28,
          29,
          30,
          31,
          32,
          33,
          34,
          35,
          36,
          37,
          38,
          39,
          40,
          41,
          42,
          43,
          44,
          45,
          46,
          47,
          48,
          49
         ],
         "y": [
          108,
          103.44806231480005,
          102.15453452128993,
          102.60194727241904,
          100.6291746090694,
          99.64280879961225,
          101.41631311045441,
          101.28834265793238,
          99.67822103781154,
          100.13820326465226,
          99.1107222075746,
          98.59409160308851,
          99.22039133226583,
          96.8394880515747,
          95.8844894264101,
          96.86027799291787,
          96.78499278730494,
          98.40619825066061,
          97.68896172219283,
          96.69999392569134,
          99.80295061526165,
          99.24014762328669,
          99.32537675876729,
          97.50264583788086,
          97.69173720454799,
          98.60541453067536,
          97.48485798482385,
          98.83294420660805,
          98.28656643216955,
          98.39955872010722,
          98.0685387860309,
          100.97050981491566,
          100.08927606779945,
          98.34339206396889,
          99.82076986337748,
          98.005223060489,
          98.88458371526448,
          96.61359689404657,
          96.26745857716429,
          98.00069852468259,
          99.54432517859959,
          99.6072656320513,
          99.27996515430439,
          98.88449564892963,
          97.21498802776956,
          97.32858144465544,
          97.70938494989203,
          99.7969879489837,
          99.94890952771647,
          97.39154726091886,
          98.72177128346696
         ]
        }
       ],
       "layout": {
        "annotations": [
         {
          "showarrow": false,
          "text": "True asset value: 101.24",
          "x": 1,
          "xanchor": "right",
          "xref": "x domain",
          "y": 101.24178538252808,
          "yanchor": "top",
          "yref": "y"
         }
        ],
        "shapes": [
         {
          "line": {
           "dash": "dot"
          },
          "type": "line",
          "x0": 0,
          "x1": 1,
          "xref": "x domain",
          "y0": 101.24178538252808,
          "y1": 101.24178538252808,
          "yanchor": "top",
          "yref": "y"
         }
        ],
        "template": {
         "data": {
          "bar": [
           {
            "error_x": {
             "color": "#2a3f5f"
            },
            "error_y": {
             "color": "#2a3f5f"
            },
            "marker": {
             "line": {
              "color": "#E5ECF6",
              "width": 0.5
             },
             "pattern": {
              "fillmode": "overlay",
              "size": 10,
              "solidity": 0.2
             }
            },
            "type": "bar"
           }
          ],
          "barpolar": [
           {
            "marker": {
             "line": {
              "color": "#E5ECF6",
              "width": 0.5
             },
             "pattern": {
              "fillmode": "overlay",
              "size": 10,
              "solidity": 0.2
             }
            },
            "type": "barpolar"
           }
          ],
          "carpet": [
           {
            "aaxis": {
             "endlinecolor": "#2a3f5f",
             "gridcolor": "white",
             "linecolor": "white",
             "minorgridcolor": "white",
             "startlinecolor": "#2a3f5f"
            },
            "baxis": {
             "endlinecolor": "#2a3f5f",
             "gridcolor": "white",
             "linecolor": "white",
             "minorgridcolor": "white",
             "startlinecolor": "#2a3f5f"
            },
            "type": "carpet"
           }
          ],
          "choropleth": [
           {
            "colorbar": {
             "outlinewidth": 0,
             "ticks": ""
            },
            "type": "choropleth"
           }
          ],
          "contour": [
           {
            "colorbar": {
             "outlinewidth": 0,
             "ticks": ""
            },
            "colorscale": [
             [
              0,
              "#0d0887"
             ],
             [
              0.1111111111111111,
              "#46039f"
             ],
             [
              0.2222222222222222,
              "#7201a8"
             ],
             [
              0.3333333333333333,
              "#9c179e"
             ],
             [
              0.4444444444444444,
              "#bd3786"
             ],
             [
              0.5555555555555556,
              "#d8576b"
             ],
             [
              0.6666666666666666,
              "#ed7953"
             ],
             [
              0.7777777777777778,
              "#fb9f3a"
             ],
             [
              0.8888888888888888,
              "#fdca26"
             ],
             [
              1,
              "#f0f921"
             ]
            ],
            "type": "contour"
           }
          ],
          "contourcarpet": [
           {
            "colorbar": {
             "outlinewidth": 0,
             "ticks": ""
            },
            "type": "contourcarpet"
           }
          ],
          "heatmap": [
           {
            "colorbar": {
             "outlinewidth": 0,
             "ticks": ""
            },
            "colorscale": [
             [
              0,
              "#0d0887"
             ],
             [
              0.1111111111111111,
              "#46039f"
             ],
             [
              0.2222222222222222,
              "#7201a8"
             ],
             [
              0.3333333333333333,
              "#9c179e"
             ],
             [
              0.4444444444444444,
              "#bd3786"
             ],
             [
              0.5555555555555556,
              "#d8576b"
             ],
             [
              0.6666666666666666,
              "#ed7953"
             ],
             [
              0.7777777777777778,
              "#fb9f3a"
             ],
             [
              0.8888888888888888,
              "#fdca26"
             ],
             [
              1,
              "#f0f921"
             ]
            ],
            "type": "heatmap"
           }
          ],
          "histogram": [
           {
            "marker": {
             "pattern": {
              "fillmode": "overlay",
              "size": 10,
              "solidity": 0.2
             }
            },
            "type": "histogram"
           }
          ],
          "histogram2d": [
           {
            "colorbar": {
             "outlinewidth": 0,
             "ticks": ""
            },
            "colorscale": [
             [
              0,
              "#0d0887"
             ],
             [
              0.1111111111111111,
              "#46039f"
             ],
             [
              0.2222222222222222,
              "#7201a8"
             ],
             [
              0.3333333333333333,
              "#9c179e"
             ],
             [
              0.4444444444444444,
              "#bd3786"
             ],
             [
              0.5555555555555556,
              "#d8576b"
             ],
             [
              0.6666666666666666,
              "#ed7953"
             ],
             [
              0.7777777777777778,
              "#fb9f3a"
             ],
             [
              0.8888888888888888,
              "#fdca26"
             ],
             [
              1,
              "#f0f921"
             ]
            ],
            "type": "histogram2d"
           }
          ],
          "histogram2dcontour": [
           {
            "colorbar": {
             "outlinewidth": 0,
             "ticks": ""
            },
            "colorscale": [
             [
              0,
              "#0d0887"
             ],
             [
              0.1111111111111111,
              "#46039f"
             ],
             [
              0.2222222222222222,
              "#7201a8"
             ],
             [
              0.3333333333333333,
              "#9c179e"
             ],
             [
              0.4444444444444444,
              "#bd3786"
             ],
             [
              0.5555555555555556,
              "#d8576b"
             ],
             [
              0.6666666666666666,
              "#ed7953"
             ],
             [
              0.7777777777777778,
              "#fb9f3a"
             ],
             [
              0.8888888888888888,
              "#fdca26"
             ],
             [
              1,
              "#f0f921"
             ]
            ],
            "type": "histogram2dcontour"
           }
          ],
          "mesh3d": [
           {
            "colorbar": {
             "outlinewidth": 0,
             "ticks": ""
            },
            "type": "mesh3d"
           }
          ],
          "parcoords": [
           {
            "line": {
             "colorbar": {
              "outlinewidth": 0,
              "ticks": ""
             }
            },
            "type": "parcoords"
           }
          ],
          "pie": [
           {
            "automargin": true,
            "type": "pie"
           }
          ],
          "scatter": [
           {
            "fillpattern": {
             "fillmode": "overlay",
             "size": 10,
             "solidity": 0.2
            },
            "type": "scatter"
           }
          ],
          "scatter3d": [
           {
            "line": {
             "colorbar": {
              "outlinewidth": 0,
              "ticks": ""
             }
            },
            "marker": {
             "colorbar": {
              "outlinewidth": 0,
              "ticks": ""
             }
            },
            "type": "scatter3d"
           }
          ],
          "scattercarpet": [
           {
            "marker": {
             "colorbar": {
              "outlinewidth": 0,
              "ticks": ""
             }
            },
            "type": "scattercarpet"
           }
          ],
          "scattergeo": [
           {
            "marker": {
             "colorbar": {
              "outlinewidth": 0,
              "ticks": ""
             }
            },
            "type": "scattergeo"
           }
          ],
          "scattergl": [
           {
            "marker": {
             "colorbar": {
              "outlinewidth": 0,
              "ticks": ""
             }
            },
            "type": "scattergl"
           }
          ],
          "scattermap": [
           {
            "marker": {
             "colorbar": {
              "outlinewidth": 0,
              "ticks": ""
             }
            },
            "type": "scattermap"
           }
          ],
          "scattermapbox": [
           {
            "marker": {
             "colorbar": {
              "outlinewidth": 0,
              "ticks": ""
             }
            },
            "type": "scattermapbox"
           }
          ],
          "scatterpolar": [
           {
            "marker": {
             "colorbar": {
              "outlinewidth": 0,
              "ticks": ""
             }
            },
            "type": "scatterpolar"
           }
          ],
          "scatterpolargl": [
           {
            "marker": {
             "colorbar": {
              "outlinewidth": 0,
              "ticks": ""
             }
            },
            "type": "scatterpolargl"
           }
          ],
          "scatterternary": [
           {
            "marker": {
             "colorbar": {
              "outlinewidth": 0,
              "ticks": ""
             }
            },
            "type": "scatterternary"
           }
          ],
          "surface": [
           {
            "colorbar": {
             "outlinewidth": 0,
             "ticks": ""
            },
            "colorscale": [
             [
              0,
              "#0d0887"
             ],
             [
              0.1111111111111111,
              "#46039f"
             ],
             [
              0.2222222222222222,
              "#7201a8"
             ],
             [
              0.3333333333333333,
              "#9c179e"
             ],
             [
              0.4444444444444444,
              "#bd3786"
             ],
             [
              0.5555555555555556,
              "#d8576b"
             ],
             [
              0.6666666666666666,
              "#ed7953"
             ],
             [
              0.7777777777777778,
              "#fb9f3a"
             ],
             [
              0.8888888888888888,
              "#fdca26"
             ],
             [
              1,
              "#f0f921"
             ]
            ],
            "type": "surface"
           }
          ],
          "table": [
           {
            "cells": {
             "fill": {
              "color": "#EBF0F8"
             },
             "line": {
              "color": "white"
             }
            },
            "header": {
             "fill": {
              "color": "#C8D4E3"
             },
             "line": {
              "color": "white"
             }
            },
            "type": "table"
           }
          ]
         },
         "layout": {
          "annotationdefaults": {
           "arrowcolor": "#2a3f5f",
           "arrowhead": 0,
           "arrowwidth": 1
          },
          "autotypenumbers": "strict",
          "coloraxis": {
           "colorbar": {
            "outlinewidth": 0,
            "ticks": ""
           }
          },
          "colorscale": {
           "diverging": [
            [
             0,
             "#8e0152"
            ],
            [
             0.1,
             "#c51b7d"
            ],
            [
             0.2,
             "#de77ae"
            ],
            [
             0.3,
             "#f1b6da"
            ],
            [
             0.4,
             "#fde0ef"
            ],
            [
             0.5,
             "#f7f7f7"
            ],
            [
             0.6,
             "#e6f5d0"
            ],
            [
             0.7,
             "#b8e186"
            ],
            [
             0.8,
             "#7fbc41"
            ],
            [
             0.9,
             "#4d9221"
            ],
            [
             1,
             "#276419"
            ]
           ],
           "sequential": [
            [
             0,
             "#0d0887"
            ],
            [
             0.1111111111111111,
             "#46039f"
            ],
            [
             0.2222222222222222,
             "#7201a8"
            ],
            [
             0.3333333333333333,
             "#9c179e"
            ],
            [
             0.4444444444444444,
             "#bd3786"
            ],
            [
             0.5555555555555556,
             "#d8576b"
            ],
            [
             0.6666666666666666,
             "#ed7953"
            ],
            [
             0.7777777777777778,
             "#fb9f3a"
            ],
            [
             0.8888888888888888,
             "#fdca26"
            ],
            [
             1,
             "#f0f921"
            ]
           ],
           "sequentialminus": [
            [
             0,
             "#0d0887"
            ],
            [
             0.1111111111111111,
             "#46039f"
            ],
            [
             0.2222222222222222,
             "#7201a8"
            ],
            [
             0.3333333333333333,
             "#9c179e"
            ],
            [
             0.4444444444444444,
             "#bd3786"
            ],
            [
             0.5555555555555556,
             "#d8576b"
            ],
            [
             0.6666666666666666,
             "#ed7953"
            ],
            [
             0.7777777777777778,
             "#fb9f3a"
            ],
            [
             0.8888888888888888,
             "#fdca26"
            ],
            [
             1,
             "#f0f921"
            ]
           ]
          },
          "colorway": [
           "#636efa",
           "#EF553B",
           "#00cc96",
           "#ab63fa",
           "#FFA15A",
           "#19d3f3",
           "#FF6692",
           "#B6E880",
           "#FF97FF",
           "#FECB52"
          ],
          "font": {
           "color": "#2a3f5f"
          },
          "geo": {
           "bgcolor": "white",
           "lakecolor": "white",
           "landcolor": "#E5ECF6",
           "showlakes": true,
           "showland": true,
           "subunitcolor": "white"
          },
          "hoverlabel": {
           "align": "left"
          },
          "hovermode": "closest",
          "mapbox": {
           "style": "light"
          },
          "paper_bgcolor": "white",
          "plot_bgcolor": "#E5ECF6",
          "polar": {
           "angularaxis": {
            "gridcolor": "white",
            "linecolor": "white",
            "ticks": ""
           },
           "bgcolor": "#E5ECF6",
           "radialaxis": {
            "gridcolor": "white",
            "linecolor": "white",
            "ticks": ""
           }
          },
          "scene": {
           "xaxis": {
            "backgroundcolor": "#E5ECF6",
            "gridcolor": "white",
            "gridwidth": 2,
            "linecolor": "white",
            "showbackground": true,
            "ticks": "",
            "zerolinecolor": "white"
           },
           "yaxis": {
            "backgroundcolor": "#E5ECF6",
            "gridcolor": "white",
            "gridwidth": 2,
            "linecolor": "white",
            "showbackground": true,
            "ticks": "",
            "zerolinecolor": "white"
           },
           "zaxis": {
            "backgroundcolor": "#E5ECF6",
            "gridcolor": "white",
            "gridwidth": 2,
            "linecolor": "white",
            "showbackground": true,
            "ticks": "",
            "zerolinecolor": "white"
           }
          },
          "shapedefaults": {
           "line": {
            "color": "#2a3f5f"
           }
          },
          "ternary": {
           "aaxis": {
            "gridcolor": "white",
            "linecolor": "white",
            "ticks": ""
           },
           "baxis": {
            "gridcolor": "white",
            "linecolor": "white",
            "ticks": ""
           },
           "bgcolor": "#E5ECF6",
           "caxis": {
            "gridcolor": "white",
            "linecolor": "white",
            "ticks": ""
           }
          },
          "title": {
           "x": 0.05
          },
          "xaxis": {
           "automargin": true,
           "gridcolor": "white",
           "linecolor": "white",
           "ticks": "",
           "title": {
            "standoff": 15
           },
           "zerolinecolor": "white",
           "zerolinewidth": 2
          },
          "yaxis": {
           "automargin": true,
           "gridcolor": "white",
           "linecolor": "white",
           "ticks": "",
           "title": {
            "standoff": 15
           },
           "zerolinecolor": "white",
           "zerolinewidth": 2
          }
         }
        }
       }
      }
     },
     "metadata": {},
     "output_type": "display_data"
    }
   ],
   "source": [
    "np.random.seed(random_seed)\n",
    "\n",
    "n_iters = 50\n",
    "\n",
    "true_asset_value = np.random.normal(asset_mean, asset_stdev)\n",
    "market_maker_quotes, lmbd, beta = get_kyleN_quotes(\n",
    "    110, 2, true_asset_value, asset_stdev, uninf_stdev, n_iters\n",
    ")\n",
    "\n",
    "bids = [x[0] for x in market_maker_quotes]\n",
    "asks = [x[1] for x in market_maker_quotes]\n",
    "\n",
    "# plot bids and asks\n",
    "\n",
    "plotly_fig = go.Figure()\n",
    "\n",
    "plotly_fig.add_trace(go.Scatter(x=list(range(n_iters)), y=bids, mode=\"lines+markers\", name=\"Bids\"))\n",
    "plotly_fig.add_trace(go.Scatter(x=list(range(n_iters)), y=asks, mode=\"lines+markers\", name=\"Asks\"))\n",
    "plotly_fig.add_hline(\n",
    "    y=true_asset_value,\n",
    "    line_dash=\"dot\",\n",
    "    yanchor=\"top\",\n",
    "    annotation_text=f\"True asset value: {true_asset_value:.2f}\",\n",
    "    annotation_position=\"bottom right\",\n",
    ")\n",
    "\n",
    "plotly_fig.show()"
   ]
  },
  {
   "cell_type": "markdown",
   "id": "0d772472",
   "metadata": {},
   "source": [
    "Surface of lambdas:"
   ]
  },
  {
   "cell_type": "code",
   "execution_count": 5,
   "id": "6ec44e18",
   "metadata": {},
   "outputs": [
    {
     "data": {
      "application/vnd.plotly.v1+json": {
       "config": {
        "plotlyServerURL": "https://plot.ly"
       },
       "data": [
        {
         "colorbar": {
          "thickness": 24
         },
         "type": "surface",
         "x": {
          "bdata": "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",
          "dtype": "f8",
          "shape": "81, 46"
         },
         "y": {
          "bdata": "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",
          "dtype": "f8",
          "shape": "81, 46"
         },
         "z": {
          "bdata": "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",
          "dtype": "f8",
          "shape": "81, 46"
         }
        }
       ],
       "layout": {
        "font": {
         "size": 12
        },
        "height": 600,
        "scene": {
         "xaxis": {
          "title": {
           "text": "Asset StDev"
          }
         },
         "yaxis": {
          "title": {
           "text": "Uninformed StDev"
          }
         },
         "zaxis": {
          "title": {
           "text": "Lambda"
          }
         }
        },
        "template": {
         "data": {
          "bar": [
           {
            "error_x": {
             "color": "#2a3f5f"
            },
            "error_y": {
             "color": "#2a3f5f"
            },
            "marker": {
             "line": {
              "color": "#E5ECF6",
              "width": 0.5
             },
             "pattern": {
              "fillmode": "overlay",
              "size": 10,
              "solidity": 0.2
             }
            },
            "type": "bar"
           }
          ],
          "barpolar": [
           {
            "marker": {
             "line": {
              "color": "#E5ECF6",
              "width": 0.5
             },
             "pattern": {
              "fillmode": "overlay",
              "size": 10,
              "solidity": 0.2
             }
            },
            "type": "barpolar"
           }
          ],
          "carpet": [
           {
            "aaxis": {
             "endlinecolor": "#2a3f5f",
             "gridcolor": "white",
             "linecolor": "white",
             "minorgridcolor": "white",
             "startlinecolor": "#2a3f5f"
            },
            "baxis": {
             "endlinecolor": "#2a3f5f",
             "gridcolor": "white",
             "linecolor": "white",
             "minorgridcolor": "white",
             "startlinecolor": "#2a3f5f"
            },
            "type": "carpet"
           }
          ],
          "choropleth": [
           {
            "colorbar": {
             "outlinewidth": 0,
             "ticks": ""
            },
            "type": "choropleth"
           }
          ],
          "contour": [
           {
            "colorbar": {
             "outlinewidth": 0,
             "ticks": ""
            },
            "colorscale": [
             [
              0,
              "#0d0887"
             ],
             [
              0.1111111111111111,
              "#46039f"
             ],
             [
              0.2222222222222222,
              "#7201a8"
             ],
             [
              0.3333333333333333,
              "#9c179e"
             ],
             [
              0.4444444444444444,
              "#bd3786"
             ],
             [
              0.5555555555555556,
              "#d8576b"
             ],
             [
              0.6666666666666666,
              "#ed7953"
             ],
             [
              0.7777777777777778,
              "#fb9f3a"
             ],
             [
              0.8888888888888888,
              "#fdca26"
             ],
             [
              1,
              "#f0f921"
             ]
            ],
            "type": "contour"
           }
          ],
          "contourcarpet": [
           {
            "colorbar": {
             "outlinewidth": 0,
             "ticks": ""
            },
            "type": "contourcarpet"
           }
          ],
          "heatmap": [
           {
            "colorbar": {
             "outlinewidth": 0,
             "ticks": ""
            },
            "colorscale": [
             [
              0,
              "#0d0887"
             ],
             [
              0.1111111111111111,
              "#46039f"
             ],
             [
              0.2222222222222222,
              "#7201a8"
             ],
             [
              0.3333333333333333,
              "#9c179e"
             ],
             [
              0.4444444444444444,
              "#bd3786"
             ],
             [
              0.5555555555555556,
              "#d8576b"
             ],
             [
              0.6666666666666666,
              "#ed7953"
             ],
             [
              0.7777777777777778,
              "#fb9f3a"
             ],
             [
              0.8888888888888888,
              "#fdca26"
             ],
             [
              1,
              "#f0f921"
             ]
            ],
            "type": "heatmap"
           }
          ],
          "histogram": [
           {
            "marker": {
             "pattern": {
              "fillmode": "overlay",
              "size": 10,
              "solidity": 0.2
             }
            },
            "type": "histogram"
           }
          ],
          "histogram2d": [
           {
            "colorbar": {
             "outlinewidth": 0,
             "ticks": ""
            },
            "colorscale": [
             [
              0,
              "#0d0887"
             ],
             [
              0.1111111111111111,
              "#46039f"
             ],
             [
              0.2222222222222222,
              "#7201a8"
             ],
             [
              0.3333333333333333,
              "#9c179e"
             ],
             [
              0.4444444444444444,
              "#bd3786"
             ],
             [
              0.5555555555555556,
              "#d8576b"
             ],
             [
              0.6666666666666666,
              "#ed7953"
             ],
             [
              0.7777777777777778,
              "#fb9f3a"
             ],
             [
              0.8888888888888888,
              "#fdca26"
             ],
             [
              1,
              "#f0f921"
             ]
            ],
            "type": "histogram2d"
           }
          ],
          "histogram2dcontour": [
           {
            "colorbar": {
             "outlinewidth": 0,
             "ticks": ""
            },
            "colorscale": [
             [
              0,
              "#0d0887"
             ],
             [
              0.1111111111111111,
              "#46039f"
             ],
             [
              0.2222222222222222,
              "#7201a8"
             ],
             [
              0.3333333333333333,
              "#9c179e"
             ],
             [
              0.4444444444444444,
              "#bd3786"
             ],
             [
              0.5555555555555556,
              "#d8576b"
             ],
             [
              0.6666666666666666,
              "#ed7953"
             ],
             [
              0.7777777777777778,
              "#fb9f3a"
             ],
             [
              0.8888888888888888,
              "#fdca26"
             ],
             [
              1,
              "#f0f921"
             ]
            ],
            "type": "histogram2dcontour"
           }
          ],
          "mesh3d": [
           {
            "colorbar": {
             "outlinewidth": 0,
             "ticks": ""
            },
            "type": "mesh3d"
           }
          ],
          "parcoords": [
           {
            "line": {
             "colorbar": {
              "outlinewidth": 0,
              "ticks": ""
             }
            },
            "type": "parcoords"
           }
          ],
          "pie": [
           {
            "automargin": true,
            "type": "pie"
           }
          ],
          "scatter": [
           {
            "fillpattern": {
             "fillmode": "overlay",
             "size": 10,
             "solidity": 0.2
            },
            "type": "scatter"
           }
          ],
          "scatter3d": [
           {
            "line": {
             "colorbar": {
              "outlinewidth": 0,
              "ticks": ""
             }
            },
            "marker": {
             "colorbar": {
              "outlinewidth": 0,
              "ticks": ""
             }
            },
            "type": "scatter3d"
           }
          ],
          "scattercarpet": [
           {
            "marker": {
             "colorbar": {
              "outlinewidth": 0,
              "ticks": ""
             }
            },
            "type": "scattercarpet"
           }
          ],
          "scattergeo": [
           {
            "marker": {
             "colorbar": {
              "outlinewidth": 0,
              "ticks": ""
             }
            },
            "type": "scattergeo"
           }
          ],
          "scattergl": [
           {
            "marker": {
             "colorbar": {
              "outlinewidth": 0,
              "ticks": ""
             }
            },
            "type": "scattergl"
           }
          ],
          "scattermap": [
           {
            "marker": {
             "colorbar": {
              "outlinewidth": 0,
              "ticks": ""
             }
            },
            "type": "scattermap"
           }
          ],
          "scattermapbox": [
           {
            "marker": {
             "colorbar": {
              "outlinewidth": 0,
              "ticks": ""
             }
            },
            "type": "scattermapbox"
           }
          ],
          "scatterpolar": [
           {
            "marker": {
             "colorbar": {
              "outlinewidth": 0,
              "ticks": ""
             }
            },
            "type": "scatterpolar"
           }
          ],
          "scatterpolargl": [
           {
            "marker": {
             "colorbar": {
              "outlinewidth": 0,
              "ticks": ""
             }
            },
            "type": "scatterpolargl"
           }
          ],
          "scatterternary": [
           {
            "marker": {
             "colorbar": {
              "outlinewidth": 0,
              "ticks": ""
             }
            },
            "type": "scatterternary"
           }
          ],
          "surface": [
           {
            "colorbar": {
             "outlinewidth": 0,
             "ticks": ""
            },
            "colorscale": [
             [
              0,
              "#0d0887"
             ],
             [
              0.1111111111111111,
              "#46039f"
             ],
             [
              0.2222222222222222,
              "#7201a8"
             ],
             [
              0.3333333333333333,
              "#9c179e"
             ],
             [
              0.4444444444444444,
              "#bd3786"
             ],
             [
              0.5555555555555556,
              "#d8576b"
             ],
             [
              0.6666666666666666,
              "#ed7953"
             ],
             [
              0.7777777777777778,
              "#fb9f3a"
             ],
             [
              0.8888888888888888,
              "#fdca26"
             ],
             [
              1,
              "#f0f921"
             ]
            ],
            "type": "surface"
           }
          ],
          "table": [
           {
            "cells": {
             "fill": {
              "color": "#EBF0F8"
             },
             "line": {
              "color": "white"
             }
            },
            "header": {
             "fill": {
              "color": "#C8D4E3"
             },
             "line": {
              "color": "white"
             }
            },
            "type": "table"
           }
          ]
         },
         "layout": {
          "annotationdefaults": {
           "arrowcolor": "#2a3f5f",
           "arrowhead": 0,
           "arrowwidth": 1
          },
          "autotypenumbers": "strict",
          "coloraxis": {
           "colorbar": {
            "outlinewidth": 0,
            "ticks": ""
           }
          },
          "colorscale": {
           "diverging": [
            [
             0,
             "#8e0152"
            ],
            [
             0.1,
             "#c51b7d"
            ],
            [
             0.2,
             "#de77ae"
            ],
            [
             0.3,
             "#f1b6da"
            ],
            [
             0.4,
             "#fde0ef"
            ],
            [
             0.5,
             "#f7f7f7"
            ],
            [
             0.6,
             "#e6f5d0"
            ],
            [
             0.7,
             "#b8e186"
            ],
            [
             0.8,
             "#7fbc41"
            ],
            [
             0.9,
             "#4d9221"
            ],
            [
             1,
             "#276419"
            ]
           ],
           "sequential": [
            [
             0,
             "#0d0887"
            ],
            [
             0.1111111111111111,
             "#46039f"
            ],
            [
             0.2222222222222222,
             "#7201a8"
            ],
            [
             0.3333333333333333,
             "#9c179e"
            ],
            [
             0.4444444444444444,
             "#bd3786"
            ],
            [
             0.5555555555555556,
             "#d8576b"
            ],
            [
             0.6666666666666666,
             "#ed7953"
            ],
            [
             0.7777777777777778,
             "#fb9f3a"
            ],
            [
             0.8888888888888888,
             "#fdca26"
            ],
            [
             1,
             "#f0f921"
            ]
           ],
           "sequentialminus": [
            [
             0,
             "#0d0887"
            ],
            [
             0.1111111111111111,
             "#46039f"
            ],
            [
             0.2222222222222222,
             "#7201a8"
            ],
            [
             0.3333333333333333,
             "#9c179e"
            ],
            [
             0.4444444444444444,
             "#bd3786"
            ],
            [
             0.5555555555555556,
             "#d8576b"
            ],
            [
             0.6666666666666666,
             "#ed7953"
            ],
            [
             0.7777777777777778,
             "#fb9f3a"
            ],
            [
             0.8888888888888888,
             "#fdca26"
            ],
            [
             1,
             "#f0f921"
            ]
           ]
          },
          "colorway": [
           "#636efa",
           "#EF553B",
           "#00cc96",
           "#ab63fa",
           "#FFA15A",
           "#19d3f3",
           "#FF6692",
           "#B6E880",
           "#FF97FF",
           "#FECB52"
          ],
          "font": {
           "color": "#2a3f5f"
          },
          "geo": {
           "bgcolor": "white",
           "lakecolor": "white",
           "landcolor": "#E5ECF6",
           "showlakes": true,
           "showland": true,
           "subunitcolor": "white"
          },
          "hoverlabel": {
           "align": "left"
          },
          "hovermode": "closest",
          "mapbox": {
           "style": "light"
          },
          "paper_bgcolor": "white",
          "plot_bgcolor": "#E5ECF6",
          "polar": {
           "angularaxis": {
            "gridcolor": "white",
            "linecolor": "white",
            "ticks": ""
           },
           "bgcolor": "#E5ECF6",
           "radialaxis": {
            "gridcolor": "white",
            "linecolor": "white",
            "ticks": ""
           }
          },
          "scene": {
           "xaxis": {
            "backgroundcolor": "#E5ECF6",
            "gridcolor": "white",
            "gridwidth": 2,
            "linecolor": "white",
            "showbackground": true,
            "ticks": "",
            "zerolinecolor": "white"
           },
           "yaxis": {
            "backgroundcolor": "#E5ECF6",
            "gridcolor": "white",
            "gridwidth": 2,
            "linecolor": "white",
            "showbackground": true,
            "ticks": "",
            "zerolinecolor": "white"
           },
           "zaxis": {
            "backgroundcolor": "#E5ECF6",
            "gridcolor": "white",
            "gridwidth": 2,
            "linecolor": "white",
            "showbackground": true,
            "ticks": "",
            "zerolinecolor": "white"
           }
          },
          "shapedefaults": {
           "line": {
            "color": "#2a3f5f"
           }
          },
          "ternary": {
           "aaxis": {
            "gridcolor": "white",
            "linecolor": "white",
            "ticks": ""
           },
           "baxis": {
            "gridcolor": "white",
            "linecolor": "white",
            "ticks": ""
           },
           "bgcolor": "#E5ECF6",
           "caxis": {
            "gridcolor": "white",
            "linecolor": "white",
            "ticks": ""
           }
          },
          "title": {
           "x": 0.05
          },
          "xaxis": {
           "automargin": true,
           "gridcolor": "white",
           "linecolor": "white",
           "ticks": "",
           "title": {
            "standoff": 15
           },
           "zerolinecolor": "white",
           "zerolinewidth": 2
          },
          "yaxis": {
           "automargin": true,
           "gridcolor": "white",
           "linecolor": "white",
           "ticks": "",
           "title": {
            "standoff": 15
           },
           "zerolinecolor": "white",
           "zerolinewidth": 2
          }
         }
        },
        "title": {
         "text": "Lambda Surface"
        },
        "width": 600
       }
      }
     },
     "metadata": {},
     "output_type": "display_data"
    }
   ],
   "source": [
    "assets_x, uninfs_y = np.meshgrid(asset_stdevs, uninformed_stdevs)\n",
    "lmbd_z = get_kyle1_lambda(assets_x, uninfs_y)\n",
    "\n",
    "lmbd_fig = go.Figure(go.Surface(x=assets_x, y=uninfs_y, z=lmbd_z, colorbar_thickness=24))\n",
    "\n",
    "lmbd_fig.update_layout(\n",
    "    title=dict(text=\"Lambda Surface\")\n",
    ")\n",
    "lmbd_fig.update_layout(width=600, height=600, font_size=12,\n",
    "    scene=dict(\n",
    "        xaxis = dict(title=\"Asset StDev\"),\n",
    "        yaxis = dict(title=\"Uninformed StDev\"),\n",
    "        zaxis =dict(title=\"Lambda\")\n",
    "    ))\n",
    "\n",
    "lmbd_fig.show()"
   ]
  },
  {
   "cell_type": "markdown",
   "id": "d7d52bcc",
   "metadata": {},
   "source": [
    "## Other Adjustment Functions"
   ]
  },
  {
   "cell_type": "code",
   "execution_count": null,
   "id": "3f5802a6",
   "metadata": {},
   "outputs": [],
   "source": []
  },
  {
   "cell_type": "markdown",
   "id": "8b71d7be",
   "metadata": {},
   "source": [
    "# Multi-Period Kyle Model (N = 3)"
   ]
  },
  {
   "attachments": {
    "image-2.png": {
     "image/png": "[encoded data removed]"
    },
    "image.png": {
     "image/png": "[encoded data removed]"
    }
   },
   "cell_type": "markdown",
   "id": "b76253d1",
   "metadata": {},
   "source": [
    "At every iteration, for each period, solve cubic equation (take the second largest root):\n",
    "\n",
    "![image.png](attachment:image.png)\n",
    "\n",
    "Expanded:\n",
    "\n",
    "$$\n",
    "\\dfrac{\\alpha_n \\sigma_u^2 \\Delta t}{\\Sigma_n}\\lambda_n^3 - \\dfrac{\\sigma_u^2 \\Delta t}{\\Sigma_n}\\lambda_n^2 - \\alpha_n\\lambda_n + \\dfrac{1}{2} = 0\n",
    "$$\n",
    "\n",
    "System of difference equations:\n",
    "\n",
    "![image-2.png](attachment:image-2.png)"
   ]
  },
  {
   "cell_type": "code",
   "execution_count": 6,
   "id": "e484687a",
   "metadata": {},
   "outputs": [],
   "source": [
    "class MultiPeriodKyleModel:\n",
    "    def __init__(self, N: int, final_sigma: float, uninf_stdev: float):\n",
    "        self.dt = 1 / N\n",
    "        self.uninf_stdev = uninf_stdev\n",
    "        self.N = N\n",
    "\n",
    "        self.ALPHA = np.zeros(N)\n",
    "        self.BETA = np.zeros(N)\n",
    "        self.LAMBDA = np.zeros(N)\n",
    "        self.SIGMA = np.zeros(N)\n",
    "\n",
    "        self.SIGMA[N-1] = final_sigma\n",
    "\n",
    "    def fit(self):\n",
    "        for n in range(self.N-1, -1, -1):\n",
    "            lmbd_roots = np.roots([self.ALPHA[n] * self.uninf_stdev**2 * self.dt / self.SIGMA[n]**2, \n",
    "                                   -self.uninf_stdev**2 * self.dt / self.SIGMA[n]**2,\n",
    "                                   -self.ALPHA[n], \n",
    "                                   0.5])\n",
    "            \n",
    "            if len(lmbd_roots) < 3: # if alpha=0, then we have two roots, positive and negative\n",
    "                self.LAMBDA[n] = max(lmbd_roots)\n",
    "            else:\n",
    "                self.LAMBDA[n] = np.median(lmbd_roots) # the second largest, out of three, according to the paper\n",
    "\n",
    "            # use lambda to calculate beta, and next step alpha and sigma\n",
    "            self.BETA[n] = self.LAMBDA[n] * self.uninf_stdev ** 2 / self.SIGMA[n] ** 2\n",
    "\n",
    "            if n > 0:\n",
    "                self.SIGMA[n-1] = self.SIGMA[n] / (1 - self.BETA[n] * self.LAMBDA[n] * self.dt)\n",
    "                self.ALPHA[n-1] = 1 / (4 * self.LAMBDA[n] * (1 - self.ALPHA[n] * self.LAMBDA[n]))\n",
    "        \n",
    "        return self"
   ]
  },
  {
   "cell_type": "code",
   "execution_count": 7,
   "id": "ce831656",
   "metadata": {},
   "outputs": [
    {
     "name": "stdout",
     "output_type": "stream",
     "text": [
      "[0.52358912 0.84371717 2.44948974] [6.55553909 5.         2.5       ] [0.90005164 0.84371717 0.61237244]\n"
     ]
    }
   ],
   "source": [
    "kyle3_model = MultiPeriodKyleModel(3, asset_stdev, uninf_stdev).fit()\n",
    "print(kyle3_model.BETA, kyle3_model.SIGMA, kyle3_model.LAMBDA)"
   ]
  },
  {
   "cell_type": "code",
   "execution_count": null,
   "id": "96c5a851",
   "metadata": {},
   "outputs": [],
   "source": []
  }
 ],
 "metadata": {
  "kernelspec": {
   "display_name": "auto_trans_systems",
   "language": "python",
   "name": "python3"
  },
  "language_info": {
   "codemirror_mode": {
    "name": "ipython",
    "version": 3
   },
   "file_extension": ".py",
   "mimetype": "text/x-python",
   "name": "python",
   "nbconvert_exporter": "python",
   "pygments_lexer": "ipython3",
   "version": "3.10.16"
  }
 },
 "nbformat": 4,
 "nbformat_minor": 5
}
